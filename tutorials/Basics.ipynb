{
 "cells": [
  {
   "cell_type": "markdown",
   "metadata": {},
   "source": [
    "# Basics Tutorial\n",
    "\n",
    "The purpose of this tutorial is to introduce the basics of the Rekall API and\n",
    "show how Rekall queries, together with the Vgrid visualization interface, can\n",
    "be used for video analysis.\n",
    "\n",
    "This is part two of the tutorial.\n",
    "If you haven't already, follow the instructions in `Basics.md` to download a\n",
    "small dataset with some simple annotations.\n",
    "\n",
    "This tutorial consists of 3 steps:\n",
    "1. Import visual metadata into Rekall\n",
    "2. Visualize metadata using Vgrid\n",
    "3. Use Rekall Interval operations to query for particular events in the video dataset\n",
    "\n",
    "### Important Concepts will be in bold throughout this notebook."
   ]
  },
  {
   "cell_type": "markdown",
   "metadata": {},
   "source": [
    "### Setup\n",
    "We first need to make sure that `rekall`, `vgrid`, and `vgrid_jupyter` are installed properly. If the following cell runs without error, you're all set. If not, make sure that you've installed `rekallpy` and `vgridpy` with `pip` or that you've activated our Anaconda environment."
   ]
  },
  {
   "cell_type": "code",
   "execution_count": 1,
   "metadata": {},
   "outputs": [],
   "source": [
    "%load_ext autoreload\n",
    "%autoreload 2\n",
    "%matplotlib inline"
   ]
  },
  {
   "cell_type": "code",
   "execution_count": 2,
   "metadata": {},
   "outputs": [],
   "source": [
    "from rekall import Interval, IntervalSet, IntervalSetMapping, Bounds3D\n",
    "from vgrid import vblocks_builder\n",
    "from vgrid_jupyter import VGridWidget"
   ]
  },
  {
   "cell_type": "markdown",
   "metadata": {},
   "source": [
    "# Step 1: Load Data\n",
    "\n",
    "The first step in analyzing videos with Rekall is loading visual metadata into Rekall. If you followed the instructions in `Basic.md`, you should have these videos in this directory:\n",
    "* `driving1.mp4`\n",
    "* `driving2.mp4`\n",
    "* `driving3.mp4`\n",
    "* `driving4.mp4`\n",
    "\n",
    "And these JSON files:\n",
    "* `driving1.json`\n",
    "* `driving2.json`\n",
    "* `driving3.json`\n",
    "* `driving4.json`\n",
    "\n",
    "We'll start by loading these JSON files into Python."
   ]
  },
  {
   "cell_type": "code",
   "execution_count": 3,
   "metadata": {},
   "outputs": [],
   "source": [
    "video_files = [\n",
    "    'driving1.mp4',\n",
    "    'driving2.mp4',\n",
    "    'driving3.mp4',\n",
    "    'driving4.mp4'\n",
    "]\n",
    "metadata_files = [\n",
    "    'driving1.json',\n",
    "    'driving2.json',\n",
    "    'driving3.json',\n",
    "    'driving4.json'\n",
    "]"
   ]
  },
  {
   "cell_type": "code",
   "execution_count": 4,
   "metadata": {},
   "outputs": [],
   "source": [
    "import json\n",
    "driving_metadata = [\n",
    "    json.load(open(metadata_file, 'r'))\n",
    "    for metadata_file in metadata_files\n",
    "]"
   ]
  },
  {
   "cell_type": "markdown",
   "metadata": {},
   "source": [
    "If we inspect each JSON object we just loaded, we'll see that it has the following structure:\n",
    "```\n",
    "[\n",
    "    {\n",
    "        'video': string,\n",
    "        'frame': int,\n",
    "        'bboxes': [\n",
    "            {\n",
    "                'class': string,\n",
    "                'score': float,\n",
    "                'x1': float,\n",
    "                'x2': float,\n",
    "                'y1': float,\n",
    "                'y2': float\n",
    "            },\n",
    "            ...\n",
    "        ]\n",
    "    },\n",
    "    ...\n",
    "]\n",
    "```"
   ]
  },
  {
   "cell_type": "markdown",
   "metadata": {},
   "source": [
    "### Concept 1: Bounds represent spatiotemporal volumes\n",
    "Each bounding box represents a 3D spatiotemporal volume in the video. We can represent such a volume by using a Rekall `Bounds3D` object.\n",
    "\n",
    "![title](https://olimar.stanford.edu/hdd/rekall_tutorials/basics/videovolume.png)"
   ]
  },
  {
   "cell_type": "code",
   "execution_count": 5,
   "metadata": {},
   "outputs": [],
   "source": [
    "sample_bbox = driving_metadata[0][10]['bboxes'][0]\n",
    "sample_frame = driving_metadata[0][10]['frame']"
   ]
  },
  {
   "cell_type": "code",
   "execution_count": 6,
   "metadata": {},
   "outputs": [
    {
     "data": {
      "text/plain": [
       "{'class': 'bicycle',\n",
       " 'score': 0.1713541,\n",
       " 'x1': 0.4788206100463867,\n",
       " 'x2': 0.4907509803771973,\n",
       " 'y1': 0.4826868693033854,\n",
       " 'y2': 0.5067381964789497}"
      ]
     },
     "execution_count": 6,
     "metadata": {},
     "output_type": "execute_result"
    }
   ],
   "source": [
    "sample_bbox"
   ]
  },
  {
   "cell_type": "code",
   "execution_count": 7,
   "metadata": {},
   "outputs": [
    {
     "data": {
      "text/plain": [
       "10"
      ]
     },
     "execution_count": 7,
     "metadata": {},
     "output_type": "execute_result"
    }
   ],
   "source": [
    "sample_frame"
   ]
  },
  {
   "cell_type": "code",
   "execution_count": 8,
   "metadata": {},
   "outputs": [],
   "source": [
    "sample_bbox_as_bounds = Bounds3D(\n",
    "    t1 = sample_frame,\n",
    "    t2 = sample_frame,\n",
    "    x1 = sample_bbox['x1'],\n",
    "    x2 = sample_bbox['x2'],\n",
    "    y1 = sample_bbox['y1'],\n",
    "    y2 = sample_bbox['y2']\n",
    ")"
   ]
  },
  {
   "cell_type": "code",
   "execution_count": 9,
   "metadata": {},
   "outputs": [
    {
     "data": {
      "text/plain": [
       "t1:10 t2:10 x1:0.4788206100463867 x2:0.4907509803771973 y1:0.4826868693033854 y2:0.5067381964789497"
      ]
     },
     "execution_count": 9,
     "metadata": {},
     "output_type": "execute_result"
    }
   ],
   "source": [
    "sample_bbox_as_bounds"
   ]
  },
  {
   "cell_type": "markdown",
   "metadata": {},
   "source": [
    "We can access the co-ordinates of the bounds as follows:"
   ]
  },
  {
   "cell_type": "code",
   "execution_count": 10,
   "metadata": {},
   "outputs": [
    {
     "name": "stdout",
     "output_type": "stream",
     "text": [
      "10\n",
      "10\n",
      "0.4788206100463867\n",
      "0.4907509803771973\n",
      "0.4826868693033854\n",
      "0.5067381964789497\n"
     ]
    }
   ],
   "source": [
    "print(sample_bbox_as_bounds['t1'])\n",
    "print(sample_bbox_as_bounds['t2'])\n",
    "print(sample_bbox_as_bounds['x1'])\n",
    "print(sample_bbox_as_bounds['x2'])\n",
    "print(sample_bbox_as_bounds['y1'])\n",
    "print(sample_bbox_as_bounds['y2'])"
   ]
  },
  {
   "cell_type": "markdown",
   "metadata": {},
   "source": [
    "### Concept 2: `Interval`s wrap spatiotemporal volumes with a payload\n",
    "But often we will need to represent other metadata on spatiotemporal volumes. In this case, we have the class name as well as the score. For this, Rekall has the `Interval` abstraction:"
   ]
  },
  {
   "cell_type": "code",
   "execution_count": 11,
   "metadata": {},
   "outputs": [],
   "source": [
    "sample_bbox_interval = Interval(\n",
    "    sample_bbox_as_bounds,\n",
    "    payload = { 'class': sample_bbox['class'], 'score': sample_bbox['score'] })"
   ]
  },
  {
   "cell_type": "code",
   "execution_count": 12,
   "metadata": {},
   "outputs": [
    {
     "data": {
      "text/plain": [
       "<Interval t1:10 t2:10 x1:0.4788206100463867 x2:0.4907509803771973 y1:0.4826868693033854 y2:0.5067381964789497 payload:{'score': 0.1713541, 'class': 'bicycle'}>"
      ]
     },
     "execution_count": 12,
     "metadata": {},
     "output_type": "execute_result"
    }
   ],
   "source": [
    "sample_bbox_interval"
   ]
  },
  {
   "cell_type": "markdown",
   "metadata": {},
   "source": [
    "`Interval`s expose the same interface to the co-ordinates as Bounds."
   ]
  },
  {
   "cell_type": "code",
   "execution_count": 13,
   "metadata": {},
   "outputs": [
    {
     "name": "stdout",
     "output_type": "stream",
     "text": [
      "10\n",
      "10\n",
      "0.4788206100463867\n",
      "0.4907509803771973\n",
      "0.4826868693033854\n",
      "0.5067381964789497\n"
     ]
    }
   ],
   "source": [
    "print(sample_bbox_interval['t1'])\n",
    "print(sample_bbox_interval['t2'])\n",
    "print(sample_bbox_interval['x1'])\n",
    "print(sample_bbox_interval['x2'])\n",
    "print(sample_bbox_interval['y1'])\n",
    "print(sample_bbox_interval['y2'])"
   ]
  },
  {
   "cell_type": "markdown",
   "metadata": {},
   "source": [
    "But they also expose interfaces to the entire Bounds object and the payload."
   ]
  },
  {
   "cell_type": "code",
   "execution_count": 14,
   "metadata": {},
   "outputs": [
    {
     "name": "stdout",
     "output_type": "stream",
     "text": [
      "t1:10 t2:10 x1:0.4788206100463867 x2:0.4907509803771973 y1:0.4826868693033854 y2:0.5067381964789497\n",
      "{'score': 0.1713541, 'class': 'bicycle'}\n"
     ]
    }
   ],
   "source": [
    "print(sample_bbox_interval['bounds'])\n",
    "print(sample_bbox_interval['payload'])"
   ]
  },
  {
   "cell_type": "markdown",
   "metadata": {},
   "source": [
    "### Concept 3: `IntervalSet`s organize many `Interval`s\n",
    "There's not much you can do with single `Interval`s, so we use `IntervalSet`s to represent collections of many `Interval`s.\n",
    "\n",
    "![title](https://olimar.stanford.edu/hdd/rekall_tutorials/basics/set_operations.png)\n",
    "\n",
    "`IntervalSet`s provide a number of useful set operations (see figure above), but for now, you can just think of them as wrappers around lists of `Interval`s.\n",
    "\n",
    "`IntervalSet`s are constructed from lists of `Interval`s:"
   ]
  },
  {
   "cell_type": "code",
   "execution_count": 15,
   "metadata": {},
   "outputs": [],
   "source": [
    "driving1_interval_set = IntervalSet([\n",
    "    Interval(Bounds3D(\n",
    "        t1=f['frame'],\n",
    "        t2=f['frame'],\n",
    "        x1=bbox['x1'],\n",
    "        x2=bbox['x2'],\n",
    "        y1=bbox['y1'],\n",
    "        y2=bbox['y2']\n",
    "    ), payload = {\n",
    "        'class': bbox['class'],\n",
    "        'score': bbox['score']\n",
    "    })\n",
    "    for f in driving_metadata[0]\n",
    "    for bbox in f['bboxes']\n",
    "])"
   ]
  },
  {
   "cell_type": "code",
   "execution_count": 16,
   "metadata": {},
   "outputs": [
    {
     "name": "stdout",
     "output_type": "stream",
     "text": [
      "96585\n"
     ]
    }
   ],
   "source": [
    "print(driving1_interval_set.size())"
   ]
  },
  {
   "cell_type": "markdown",
   "metadata": {},
   "source": [
    "We can recover the original (sorted by bounds) list of Intervals with `get_intervals`:"
   ]
  },
  {
   "cell_type": "code",
   "execution_count": 17,
   "metadata": {},
   "outputs": [
    {
     "name": "stdout",
     "output_type": "stream",
     "text": [
      "96585\n",
      "<Interval t1:0 t2:0 x1:0.0 x2:0.060274869203567505 y1:0.4683924780951606 y2:0.5129659440782335 payload:{'score': 0.9973519, 'class': 'motorcycle'}>\n"
     ]
    }
   ],
   "source": [
    "print(len(driving1_interval_set.get_intervals()))\n",
    "print(driving1_interval_set.get_intervals()[0])"
   ]
  },
  {
   "cell_type": "markdown",
   "metadata": {},
   "source": [
    "### Concept 4: `IntervalSetMapping`s organize `IntervalSet`s from different domains\n",
    "Finally, we often deal with multiple videos at once, and often don't want to mix operations from `IntervalSet`s from different domains. `IntervalSetMapping` is a wrapper around a mapping from keys to `IntervalSet`s. Often the keys will correspond to video IDs or path names.\n",
    "\n",
    "We construct an `IntervalSetMapping` with a dictionary:"
   ]
  },
  {
   "cell_type": "code",
   "execution_count": 18,
   "metadata": {},
   "outputs": [],
   "source": [
    "bbox_interval_set_mapping = IntervalSetMapping({\n",
    "    video_file: IntervalSet([\n",
    "        Interval(Bounds3D(\n",
    "            t1=f['frame'],\n",
    "            t2=f['frame'],\n",
    "            x1=bbox['x1'],\n",
    "            x2=bbox['x2'],\n",
    "            y1=bbox['y1'],\n",
    "            y2=bbox['y2']\n",
    "        ), payload = {\n",
    "            'class': bbox['class'],\n",
    "            'score': bbox['score']\n",
    "        })\n",
    "        for f in metadata\n",
    "        for bbox in f['bboxes']\n",
    "    ])\n",
    "    for video_file, metadata in zip(video_files, driving_metadata)\n",
    "})"
   ]
  },
  {
   "cell_type": "markdown",
   "metadata": {},
   "source": [
    "`IntervalSetMapping` reflects operations on `IntervalSet`s:"
   ]
  },
  {
   "cell_type": "code",
   "execution_count": 19,
   "metadata": {},
   "outputs": [
    {
     "data": {
      "text/plain": [
       "{'driving1.mp4': 96585,\n",
       " 'driving2.mp4': 90570,\n",
       " 'driving3.mp4': 211999,\n",
       " 'driving4.mp4': 17983}"
      ]
     },
     "execution_count": 19,
     "metadata": {},
     "output_type": "execute_result"
    }
   ],
   "source": [
    "bbox_interval_set_mapping.size()"
   ]
  },
  {
   "cell_type": "markdown",
   "metadata": {},
   "source": [
    "And recover the original dictionary using `get_grouped_intervals`."
   ]
  },
  {
   "cell_type": "code",
   "execution_count": 20,
   "metadata": {},
   "outputs": [
    {
     "data": {
      "text/plain": [
       "dict_keys(['driving3.mp4', 'driving1.mp4', 'driving4.mp4', 'driving2.mp4'])"
      ]
     },
     "execution_count": 20,
     "metadata": {},
     "output_type": "execute_result"
    }
   ],
   "source": [
    "bbox_interval_set_mapping.get_grouped_intervals().keys()"
   ]
  },
  {
   "cell_type": "markdown",
   "metadata": {},
   "source": [
    "# Step 2: Visualize Metadata Using Vgrid\n",
    "\n",
    "Next, we'll use `Vgrid` to visualize bounding boxes on our videos.\n",
    "\n",
    "First, we need to load up some metadata about the videos that we'd like to display. This code will use `ffprobe` to get the width, height, and fps from the local videos on disk."
   ]
  },
  {
   "cell_type": "code",
   "execution_count": 21,
   "metadata": {},
   "outputs": [],
   "source": [
    "video_metadata = [\n",
    "    vblocks_builder.VideoMetadata(path=video_file, id=video_file)\n",
    "    for video_file in video_files\n",
    "]"
   ]
  },
  {
   "cell_type": "code",
   "execution_count": 22,
   "metadata": {},
   "outputs": [
    {
     "name": "stdout",
     "output_type": "stream",
     "text": [
      "29.97002997002997 1280 720 driving1.mp4\n",
      "29.97002997002997 1280 720 driving2.mp4\n",
      "59.94005994005994 1280 720 driving3.mp4\n",
      "29.97002997002997 1280 720 driving4.mp4\n"
     ]
    }
   ],
   "source": [
    "for vm in video_metadata:\n",
    "    print(vm.fps, vm.width, vm.height, vm.id)"
   ]
  },
  {
   "cell_type": "markdown",
   "metadata": {},
   "source": [
    "Next, we'll need to convert the time dimension of our `Interval`s from frames to seconds.\n",
    "\n",
    "First, we add the video file to the payload of each `Interval`:"
   ]
  },
  {
   "cell_type": "code",
   "execution_count": 23,
   "metadata": {},
   "outputs": [],
   "source": [
    "bbox_interval_set_mapping_with_paths = bbox_interval_set_mapping.add_key_to_payload()"
   ]
  },
  {
   "cell_type": "markdown",
   "metadata": {},
   "source": [
    "Note that the payload is now a tuple of `({'class': string, 'score': float}, path)`"
   ]
  },
  {
   "cell_type": "code",
   "execution_count": 24,
   "metadata": {},
   "outputs": [
    {
     "name": "stdout",
     "output_type": "stream",
     "text": [
      "<Interval t1:0 t2:0 x1:0.0 x2:0.060274869203567505 y1:0.4683924780951606 y2:0.5129659440782335 payload:({'score': 0.9973519, 'class': 'motorcycle'}, 'driving1.mp4')>\n"
     ]
    }
   ],
   "source": [
    "print(bbox_interval_set_mapping_with_paths.get_grouped_intervals()['driving1.mp4'].get_intervals()[0])"
   ]
  },
  {
   "cell_type": "markdown",
   "metadata": {},
   "source": [
    "Next, we use `IntervalSet`'s `map` method (reflected in `IntervalSetMapping`) to map from frame numbers to seconds. Note that we add one frame to the end frame so that the intervals have non-zero time extent."
   ]
  },
  {
   "cell_type": "code",
   "execution_count": 25,
   "metadata": {},
   "outputs": [],
   "source": [
    "path_to_fps_mapping = {\n",
    "    vm.id: vm.fps\n",
    "    for vm in video_metadata\n",
    "}\n",
    "bbox_ism_seconds = bbox_interval_set_mapping_with_paths.map(\n",
    "    lambda interval: Interval(\n",
    "        Bounds3D(\n",
    "            t1 = interval['t1'] / path_to_fps_mapping[interval['payload'][1]],\n",
    "            t2 = (interval['t2'] + 1) / path_to_fps_mapping[interval['payload'][1]],\n",
    "            x1 = interval['x1'],\n",
    "            x2 = interval['x2'],\n",
    "            y1 = interval['y1'],\n",
    "            y2 = interval['y2']\n",
    "        ),\n",
    "        payload = interval['payload'][0] # just have the class and score\n",
    "    )\n",
    ")"
   ]
  },
  {
   "cell_type": "markdown",
   "metadata": {},
   "source": [
    "### Concept 5: Vgrid visualizes Vblocks.\n",
    "\n",
    "Vgrid visualizes \"Vblocks\" in a grid. We'll see what that looks like in a minute, and you can go to the [Vgrid documentation](https://scanner-research.github.io/vgrid/) for more details. For now, we just need to create some Vblocks for Vgrid to visualize.\n",
    "\n",
    "First, we initialize our vblocks builder:"
   ]
  },
  {
   "cell_type": "code",
   "execution_count": 26,
   "metadata": {},
   "outputs": [],
   "source": [
    "builder = vblocks_builder.VideoVBlocksBuilder()"
   ]
  },
  {
   "cell_type": "markdown",
   "metadata": {},
   "source": [
    "Next, we add the metadata that we just created. The first field is a path to the fileserver that you started in part one of this tutorial (`Basics.md`). The second field is the list of video metadata."
   ]
  },
  {
   "cell_type": "code",
   "execution_count": 27,
   "metadata": {},
   "outputs": [
    {
     "data": {
      "text/plain": [
       "<vgrid.vblocks_builder.VideoVBlocksBuilder at 0x7fa926cacbe0>"
      ]
     },
     "execution_count": 27,
     "metadata": {},
     "output_type": "execute_result"
    }
   ],
   "source": [
    "builder.add_video_metadata(\n",
    "    'http://dawn10.stanford.edu:8080', video_metadata\n",
    ")"
   ]
  },
  {
   "cell_type": "markdown",
   "metadata": {},
   "source": [
    "Next, we add bounding boxes to our builder using `add_track` and `VideoTrackBuilder`. We'll also filter our bounding boxes to only the ones that the detector had greater than 75% confidence in. Finally, we'll set the draw type of this track to `bbox`."
   ]
  },
  {
   "cell_type": "code",
   "execution_count": 28,
   "metadata": {},
   "outputs": [
    {
     "data": {
      "text/plain": [
       "<vgrid.vblocks_builder.VideoVBlocksBuilder at 0x7fa926cacbe0>"
      ]
     },
     "execution_count": 28,
     "metadata": {},
     "output_type": "execute_result"
    }
   ],
   "source": [
    "builder.add_track(\n",
    "    vblocks_builder.VideoTrackBuilder(\n",
    "        'bounding_boxes',\n",
    "        bbox_ism_seconds.filter(lambda interval: interval['payload']['score'] > 0.75)\n",
    "    ).set_draw_type(vblocks_builder.DrawType_Bbox())\n",
    ")"
   ]
  },
  {
   "cell_type": "markdown",
   "metadata": {},
   "source": [
    "Next, we'll turn this into a JSON-serializable format for the Javascript widget."
   ]
  },
  {
   "cell_type": "code",
   "execution_count": 29,
   "metadata": {},
   "outputs": [],
   "source": [
    "json_for_vgrid = builder.build()"
   ]
  },
  {
   "cell_type": "markdown",
   "metadata": {},
   "source": [
    "Finally, we'll display this metadata in Vgrid. To play the videos:\n",
    "* Click \"Disable Jupyter keyboard\". Make sure to enabel the keyboard again when you're done!\n",
    "* Hover over the video you want to play and press \"f\" to expand it. Hover over it and press \"f\" again to contract it.\n",
    "* Hover over the video while expanded and press \"p\" to play it.\n",
    "\n",
    "If you notice lagging bounding boxes, it's probably just a rendering issue; if you pause the video, the boxes will be in the right place"
   ]
  },
  {
   "cell_type": "code",
   "execution_count": 30,
   "metadata": {},
   "outputs": [
    {
     "data": {
      "application/vnd.jupyter.widget-view+json": {
       "model_id": "1b9dd9abeb47456a9bf376d1c88b5efb",
       "version_major": 2,
       "version_minor": 0
      },
      "text/plain": [
       "VGridWidget(vgrid_json={'interval_blocks': [{'interval_dict': {'bounding_boxes': [{'y': (0.3326997545030382, 0…"
      ]
     },
     "metadata": {},
     "output_type": "display_data"
    }
   ],
   "source": [
    "VGridWidget(vgrid_json=json_for_vgrid)"
   ]
  },
  {
   "cell_type": "markdown",
   "metadata": {},
   "source": [
    "### Concept 6: Vgrid can visualize multiple different tracks at once.\n",
    "With our current visualization, there's no differentiation between different objects. It would be nice to to color-code different objects by different colors. We can do this by adding more tracks to Vgrid.\n",
    "\n",
    "Let's start by having multiple `IntervalSetMapping`s, each corresponding to different objects, specified in `object_names`."
   ]
  },
  {
   "cell_type": "code",
   "execution_count": 38,
   "metadata": {},
   "outputs": [],
   "source": [
    "object_names = [\n",
    "    'car',\n",
    "    'truck',\n",
    "    'motorcycle',\n",
    "    'bicycle'\n",
    "]\n",
    "object_isms = [\n",
    "    bbox_ism_seconds.filter(lambda interval: interval['payload']['class'] == object_name)\n",
    "    for object_name in object_names\n",
    "]"
   ]
  },
  {
   "cell_type": "markdown",
   "metadata": {},
   "source": [
    "Now we have an array of different `IntervalSetMapping`s, each of which only has objects from a single class. We also have `objects_other_ism`, which has objects that aren't cars, trucks, motorcycles, bicycles, or traffic lights.\n",
    "\n",
    "We'll build a new Vgrid visualization, with one track per object. We start by creating a new builder and adding our videos to it:"
   ]
  },
  {
   "cell_type": "code",
   "execution_count": 39,
   "metadata": {},
   "outputs": [
    {
     "data": {
      "text/plain": [
       "<vgrid.vblocks_builder.VideoVBlocksBuilder at 0x7fa914806908>"
      ]
     },
     "execution_count": 39,
     "metadata": {},
     "output_type": "execute_result"
    }
   ],
   "source": [
    "builder = vblocks_builder.VideoVBlocksBuilder()\n",
    "builder.add_video_metadata(\n",
    "    'http://dawn10.stanford.edu:8080', video_metadata\n",
    ")"
   ]
  },
  {
   "cell_type": "markdown",
   "metadata": {},
   "source": [
    "Next we'll add a new track for every object:"
   ]
  },
  {
   "cell_type": "code",
   "execution_count": 40,
   "metadata": {},
   "outputs": [],
   "source": [
    "for ism, object_name in zip(object_isms, object_names):\n",
    "    builder.add_track(\n",
    "        vblocks_builder.VideoTrackBuilder(\n",
    "            object_name,\n",
    "            ism.filter(lambda interval: interval['payload']['score'] > 0.75)\n",
    "        ).set_draw_type(vblocks_builder.DrawType_Bbox())\n",
    "    )"
   ]
  },
  {
   "cell_type": "markdown",
   "metadata": {},
   "source": [
    "Finally, we'll build a JSON-serializable object for Vgrid and visualize it."
   ]
  },
  {
   "cell_type": "code",
   "execution_count": 41,
   "metadata": {},
   "outputs": [
    {
     "data": {
      "application/vnd.jupyter.widget-view+json": {
       "model_id": "278c9c32c0f04929afaef27d7afd7e96",
       "version_major": 2,
       "version_minor": 0
      },
      "text/plain": [
       "VGridWidget(vgrid_json={'interval_blocks': [{'interval_dict': {'car': [], 'truck': [{'y': (0.4764163123236762,…"
      ]
     },
     "metadata": {},
     "output_type": "display_data"
    }
   ],
   "source": [
    "json_for_vgrid = builder.build()\n",
    "VGridWidget(vgrid_json=json_for_vgrid)"
   ]
  }
 ],
 "metadata": {
  "kernelspec": {
   "display_name": "Python 3",
   "language": "python",
   "name": "python3"
  },
  "language_info": {
   "codemirror_mode": {
    "name": "ipython",
    "version": 3
   },
   "file_extension": ".py",
   "mimetype": "text/x-python",
   "name": "python",
   "nbconvert_exporter": "python",
   "pygments_lexer": "ipython3",
   "version": "3.5.5"
  }
 },
 "nbformat": 4,
 "nbformat_minor": 2
}
