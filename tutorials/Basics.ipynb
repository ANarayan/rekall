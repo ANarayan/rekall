{
 "cells": [
  {
   "cell_type": "markdown",
   "metadata": {},
   "source": [
    "# Basics Tutorial\n",
    "\n",
    "The purpose of this tutorial is to introduce the basics of the Rekall API and\n",
    "show how Rekall queries, together with the Vgrid visualization interface, can\n",
    "be used for video analysis.\n",
    "\n",
    "This is part two of the tutorial.\n",
    "If you haven't already, follow the instructions in `Basics.md` to download a\n",
    "small dataset with some simple annotations.\n",
    "\n",
    "This tutorial consists of 3 steps:\n",
    "1. Import visual metadata into Rekall\n",
    "2. Visualize metadata using Vgrid\n",
    "3. Use Rekall Interval operations to query for particular events in the video dataset\n",
    "\n",
    "### Important Concepts will be in bold throughout this notebook."
   ]
  },
  {
   "cell_type": "markdown",
   "metadata": {},
   "source": [
    "### Setup\n",
    "We first need to make sure that `rekall`, `vgrid`, and `vgrid_jupyter` are installed properly. If the following cell runs without error, you're all set. If not, make sure that you've installed `rekallpy` and `vgridpy` with `pip` or that you've activated our Anaconda environment."
   ]
  },
  {
   "cell_type": "code",
   "execution_count": 1,
   "metadata": {},
   "outputs": [],
   "source": [
    "%load_ext autoreload\n",
    "%autoreload 2\n",
    "%matplotlib inline"
   ]
  },
  {
   "cell_type": "code",
   "execution_count": 2,
   "metadata": {},
   "outputs": [],
   "source": [
    "from rekall import Interval, IntervalSet, IntervalSetMapping, Bounds3D\n",
    "from vgrid import vblocks_builder\n",
    "from vgrid_jupyter import VGridWidget"
   ]
  },
  {
   "cell_type": "markdown",
   "metadata": {},
   "source": [
    "# Step 1: Load Data\n",
    "\n",
    "The first step in analyzing videos with Rekall is loading visual metadata into Rekall. If you followed the instructions in `Basic.md`, you should have these videos in this directory:\n",
    "* `driving1.mp4`\n",
    "* `driving2.mp4`\n",
    "* `driving3.mp4`\n",
    "* `driving4.mp4`\n",
    "\n",
    "And these JSON files:\n",
    "* `driving1.json`\n",
    "* `driving2.json`\n",
    "* `driving3.json`\n",
    "* `driving4.json`\n",
    "\n",
    "We'll start by loading these JSON files into Python."
   ]
  },
  {
   "cell_type": "code",
   "execution_count": 3,
   "metadata": {},
   "outputs": [],
   "source": [
    "video_files = [\n",
    "    'driving1.mp4',\n",
    "    'driving2.mp4',\n",
    "    'driving3.mp4',\n",
    "    'driving4.mp4'\n",
    "]\n",
    "metadata_files = [\n",
    "    'driving1.json',\n",
    "    'driving2.json',\n",
    "    'driving3.json',\n",
    "    'driving4.json'\n",
    "]"
   ]
  },
  {
   "cell_type": "code",
   "execution_count": 4,
   "metadata": {},
   "outputs": [],
   "source": [
    "import json\n",
    "driving_metadata = [\n",
    "    json.load(open(metadata_file, 'r'))\n",
    "    for metadata_file in metadata_files\n",
    "]"
   ]
  },
  {
   "cell_type": "markdown",
   "metadata": {},
   "source": [
    "If we inspect each JSON object we just loaded, we'll see that it has the following structure:\n",
    "```\n",
    "[\n",
    "    {\n",
    "        'video': string,\n",
    "        'frame': int,\n",
    "        'bboxes': [\n",
    "            {\n",
    "                'class': string,\n",
    "                'score': float,\n",
    "                'x1': float,\n",
    "                'x2': float,\n",
    "                'y1': float,\n",
    "                'y2': float\n",
    "            },\n",
    "            ...\n",
    "        ]\n",
    "    },\n",
    "    ...\n",
    "]\n",
    "```"
   ]
  },
  {
   "cell_type": "markdown",
   "metadata": {},
   "source": [
    "### Concept 1: Bounds represent spatiotemporal volumes\n",
    "Each bounding box represents a 3D spatiotemporal volume in the video. We can represent such a volume by using a Rekall `Bounds3D` object.\n",
    "\n",
    "![videovolume](https://olimar.stanford.edu/hdd/rekall_tutorials/basics/videovolume.png)"
   ]
  },
  {
   "cell_type": "code",
   "execution_count": 5,
   "metadata": {},
   "outputs": [],
   "source": [
    "sample_bbox = driving_metadata[0][10]['bboxes'][0]\n",
    "sample_frame = driving_metadata[0][10]['frame']"
   ]
  },
  {
   "cell_type": "code",
   "execution_count": 6,
   "metadata": {},
   "outputs": [
    {
     "data": {
      "text/plain": [
       "{'class': 'person',\n",
       " 'score': 0.17135410010814667,\n",
       " 'x1': 0.4788206100463867,\n",
       " 'x2': 0.4907509803771973,\n",
       " 'y1': 0.4826868693033854,\n",
       " 'y2': 0.5067381964789497}"
      ]
     },
     "execution_count": 6,
     "metadata": {},
     "output_type": "execute_result"
    }
   ],
   "source": [
    "sample_bbox"
   ]
  },
  {
   "cell_type": "code",
   "execution_count": 7,
   "metadata": {},
   "outputs": [
    {
     "data": {
      "text/plain": [
       "10"
      ]
     },
     "execution_count": 7,
     "metadata": {},
     "output_type": "execute_result"
    }
   ],
   "source": [
    "sample_frame"
   ]
  },
  {
   "cell_type": "code",
   "execution_count": 8,
   "metadata": {},
   "outputs": [],
   "source": [
    "sample_bbox_as_bounds = Bounds3D(\n",
    "    t1 = sample_frame,\n",
    "    t2 = sample_frame,\n",
    "    x1 = sample_bbox['x1'],\n",
    "    x2 = sample_bbox['x2'],\n",
    "    y1 = sample_bbox['y1'],\n",
    "    y2 = sample_bbox['y2']\n",
    ")"
   ]
  },
  {
   "cell_type": "code",
   "execution_count": 9,
   "metadata": {},
   "outputs": [
    {
     "data": {
      "text/plain": [
       "t1:10 t2:10 x1:0.4788206100463867 x2:0.4907509803771973 y1:0.4826868693033854 y2:0.5067381964789497"
      ]
     },
     "execution_count": 9,
     "metadata": {},
     "output_type": "execute_result"
    }
   ],
   "source": [
    "sample_bbox_as_bounds"
   ]
  },
  {
   "cell_type": "markdown",
   "metadata": {},
   "source": [
    "We can access the co-ordinates of the bounds as follows:"
   ]
  },
  {
   "cell_type": "code",
   "execution_count": 10,
   "metadata": {},
   "outputs": [
    {
     "name": "stdout",
     "output_type": "stream",
     "text": [
      "10\n",
      "10\n",
      "0.4788206100463867\n",
      "0.4907509803771973\n",
      "0.4826868693033854\n",
      "0.5067381964789497\n"
     ]
    }
   ],
   "source": [
    "print(sample_bbox_as_bounds['t1'])\n",
    "print(sample_bbox_as_bounds['t2'])\n",
    "print(sample_bbox_as_bounds['x1'])\n",
    "print(sample_bbox_as_bounds['x2'])\n",
    "print(sample_bbox_as_bounds['y1'])\n",
    "print(sample_bbox_as_bounds['y2'])"
   ]
  },
  {
   "cell_type": "markdown",
   "metadata": {},
   "source": [
    "### Concept 2: `Interval`s wrap spatiotemporal volumes with a payload\n",
    "But often we will need to represent other metadata on spatiotemporal volumes. In this case, we have the class name as well as the score. For this, Rekall has the `Interval` abstraction:"
   ]
  },
  {
   "cell_type": "code",
   "execution_count": 11,
   "metadata": {},
   "outputs": [],
   "source": [
    "sample_bbox_interval = Interval(\n",
    "    sample_bbox_as_bounds,\n",
    "    payload = { 'class': sample_bbox['class'], 'score': sample_bbox['score'] })"
   ]
  },
  {
   "cell_type": "code",
   "execution_count": 12,
   "metadata": {},
   "outputs": [
    {
     "data": {
      "text/plain": [
       "<Interval t1:10 t2:10 x1:0.4788206100463867 x2:0.4907509803771973 y1:0.4826868693033854 y2:0.5067381964789497 payload:{'score': 0.17135410010814667, 'class': 'person'}>"
      ]
     },
     "execution_count": 12,
     "metadata": {},
     "output_type": "execute_result"
    }
   ],
   "source": [
    "sample_bbox_interval"
   ]
  },
  {
   "cell_type": "markdown",
   "metadata": {},
   "source": [
    "`Interval`s expose the same interface to the co-ordinates as Bounds."
   ]
  },
  {
   "cell_type": "code",
   "execution_count": 13,
   "metadata": {},
   "outputs": [
    {
     "name": "stdout",
     "output_type": "stream",
     "text": [
      "10\n",
      "10\n",
      "0.4788206100463867\n",
      "0.4907509803771973\n",
      "0.4826868693033854\n",
      "0.5067381964789497\n"
     ]
    }
   ],
   "source": [
    "print(sample_bbox_interval['t1'])\n",
    "print(sample_bbox_interval['t2'])\n",
    "print(sample_bbox_interval['x1'])\n",
    "print(sample_bbox_interval['x2'])\n",
    "print(sample_bbox_interval['y1'])\n",
    "print(sample_bbox_interval['y2'])"
   ]
  },
  {
   "cell_type": "markdown",
   "metadata": {},
   "source": [
    "But they also expose interfaces to the entire Bounds object and the payload."
   ]
  },
  {
   "cell_type": "code",
   "execution_count": 14,
   "metadata": {},
   "outputs": [
    {
     "name": "stdout",
     "output_type": "stream",
     "text": [
      "t1:10 t2:10 x1:0.4788206100463867 x2:0.4907509803771973 y1:0.4826868693033854 y2:0.5067381964789497\n",
      "{'score': 0.17135410010814667, 'class': 'person'}\n"
     ]
    }
   ],
   "source": [
    "print(sample_bbox_interval['bounds'])\n",
    "print(sample_bbox_interval['payload'])"
   ]
  },
  {
   "cell_type": "markdown",
   "metadata": {},
   "source": [
    "### Concept 3: `IntervalSet`s organize many `Interval`s\n",
    "There's not much you can do with single `Interval`s, so we use `IntervalSet`s to represent collections of many `Interval`s.\n",
    "\n",
    "![set_operations](https://olimar.stanford.edu/hdd/rekall_tutorials/basics/set_operations.png)\n",
    "\n",
    "`IntervalSet`s provide a number of useful set operations (see figure above), but for now, you can just think of them as wrappers around lists of `Interval`s.\n",
    "\n",
    "`IntervalSet`s are constructed from lists of `Interval`s:"
   ]
  },
  {
   "cell_type": "code",
   "execution_count": 15,
   "metadata": {},
   "outputs": [],
   "source": [
    "driving1_interval_set = IntervalSet([\n",
    "    Interval(Bounds3D(\n",
    "        t1=f['frame'],\n",
    "        t2=f['frame'],\n",
    "        x1=bbox['x1'],\n",
    "        x2=bbox['x2'],\n",
    "        y1=bbox['y1'],\n",
    "        y2=bbox['y2']\n",
    "    ), payload = {\n",
    "        'class': bbox['class'],\n",
    "        'score': bbox['score']\n",
    "    })\n",
    "    for f in driving_metadata[0]\n",
    "    for bbox in f['bboxes']\n",
    "])"
   ]
  },
  {
   "cell_type": "code",
   "execution_count": 16,
   "metadata": {},
   "outputs": [
    {
     "name": "stdout",
     "output_type": "stream",
     "text": [
      "96585\n"
     ]
    }
   ],
   "source": [
    "print(driving1_interval_set.size())"
   ]
  },
  {
   "cell_type": "markdown",
   "metadata": {},
   "source": [
    "We can recover the original (sorted by bounds) list of Intervals with `get_intervals`:"
   ]
  },
  {
   "cell_type": "code",
   "execution_count": 17,
   "metadata": {},
   "outputs": [
    {
     "name": "stdout",
     "output_type": "stream",
     "text": [
      "96585\n",
      "<Interval t1:0 t2:0 x1:0.0 x2:0.060274869203567505 y1:0.4683924780951606 y2:0.5129659440782335 payload:{'score': 0.997351884841919, 'class': 'car'}>\n"
     ]
    }
   ],
   "source": [
    "print(len(driving1_interval_set.get_intervals()))\n",
    "print(driving1_interval_set.get_intervals()[0])"
   ]
  },
  {
   "cell_type": "markdown",
   "metadata": {},
   "source": [
    "### Concept 4: `IntervalSetMapping`s organize `IntervalSet`s from different domains\n",
    "Finally, we often deal with multiple videos at once, and often don't want to mix operations from `IntervalSet`s from different domains. `IntervalSetMapping` is a wrapper around a mapping from keys to `IntervalSet`s. Often the keys will correspond to video IDs or path names.\n",
    "\n",
    "We construct an `IntervalSetMapping` with a dictionary:"
   ]
  },
  {
   "cell_type": "code",
   "execution_count": 18,
   "metadata": {},
   "outputs": [],
   "source": [
    "bbox_interval_set_mapping = IntervalSetMapping({\n",
    "    video_file: IntervalSet([\n",
    "        Interval(Bounds3D(\n",
    "            t1=f['frame'],\n",
    "            t2=f['frame'],\n",
    "            x1=bbox['x1'],\n",
    "            x2=bbox['x2'],\n",
    "            y1=bbox['y1'],\n",
    "            y2=bbox['y2']\n",
    "        ), payload = {\n",
    "            'class': bbox['class'],\n",
    "            'score': bbox['score']\n",
    "        })\n",
    "        for f in metadata\n",
    "        for bbox in f['bboxes']\n",
    "    ])\n",
    "    for video_file, metadata in zip(video_files, driving_metadata)\n",
    "})"
   ]
  },
  {
   "cell_type": "markdown",
   "metadata": {},
   "source": [
    "`IntervalSetMapping` reflects operations on `IntervalSet`s:"
   ]
  },
  {
   "cell_type": "code",
   "execution_count": 19,
   "metadata": {},
   "outputs": [
    {
     "data": {
      "text/plain": [
       "{'driving1.mp4': 96585,\n",
       " 'driving2.mp4': 90570,\n",
       " 'driving3.mp4': 211999,\n",
       " 'driving4.mp4': 17983}"
      ]
     },
     "execution_count": 19,
     "metadata": {},
     "output_type": "execute_result"
    }
   ],
   "source": [
    "bbox_interval_set_mapping.size()"
   ]
  },
  {
   "cell_type": "markdown",
   "metadata": {},
   "source": [
    "And recover the original dictionary using `get_grouped_intervals`."
   ]
  },
  {
   "cell_type": "code",
   "execution_count": 20,
   "metadata": {},
   "outputs": [
    {
     "data": {
      "text/plain": [
       "dict_keys(['driving3.mp4', 'driving1.mp4', 'driving2.mp4', 'driving4.mp4'])"
      ]
     },
     "execution_count": 20,
     "metadata": {},
     "output_type": "execute_result"
    }
   ],
   "source": [
    "bbox_interval_set_mapping.get_grouped_intervals().keys()"
   ]
  },
  {
   "cell_type": "markdown",
   "metadata": {},
   "source": [
    "# Step 2: Visualize Metadata Using Vgrid\n",
    "\n",
    "Next, we'll use `Vgrid` to visualize bounding boxes on our videos.\n",
    "\n",
    "First, we need to load up some metadata about the videos that we'd like to display. This code will use `ffprobe` to get the width, height, and fps from the local videos on disk."
   ]
  },
  {
   "cell_type": "code",
   "execution_count": 21,
   "metadata": {},
   "outputs": [],
   "source": [
    "video_metadata = [\n",
    "    vblocks_builder.VideoMetadata(path=video_file, id=video_file)\n",
    "    for video_file in video_files\n",
    "]"
   ]
  },
  {
   "cell_type": "code",
   "execution_count": 22,
   "metadata": {},
   "outputs": [
    {
     "name": "stdout",
     "output_type": "stream",
     "text": [
      "29.97002997002997 1280 720 driving1.mp4\n",
      "29.97002997002997 1280 720 driving2.mp4\n",
      "59.94005994005994 1280 720 driving3.mp4\n",
      "29.97002997002997 1280 720 driving4.mp4\n"
     ]
    }
   ],
   "source": [
    "for vm in video_metadata:\n",
    "    print(vm.fps, vm.width, vm.height, vm.id)"
   ]
  },
  {
   "cell_type": "markdown",
   "metadata": {},
   "source": [
    "Next, we'll need to convert the time dimension of our `Interval`s from frames to seconds.\n",
    "\n",
    "First, we add the video file to the payload of each `Interval`:"
   ]
  },
  {
   "cell_type": "code",
   "execution_count": 23,
   "metadata": {},
   "outputs": [],
   "source": [
    "bbox_interval_set_mapping_with_paths = bbox_interval_set_mapping.add_key_to_payload()"
   ]
  },
  {
   "cell_type": "markdown",
   "metadata": {},
   "source": [
    "Note that the payload is now a tuple of `({'class': string, 'score': float}, path)`"
   ]
  },
  {
   "cell_type": "code",
   "execution_count": 24,
   "metadata": {},
   "outputs": [
    {
     "name": "stdout",
     "output_type": "stream",
     "text": [
      "<Interval t1:0 t2:0 x1:0.0 x2:0.060274869203567505 y1:0.4683924780951606 y2:0.5129659440782335 payload:({'score': 0.997351884841919, 'class': 'car'}, 'driving1.mp4')>\n"
     ]
    }
   ],
   "source": [
    "print(bbox_interval_set_mapping_with_paths.get_grouped_intervals()['driving1.mp4'].get_intervals()[0])"
   ]
  },
  {
   "cell_type": "markdown",
   "metadata": {},
   "source": [
    "Next, we use `IntervalSet`'s `map` method (reflected in `IntervalSetMapping`) to map from frame numbers to seconds. Note that we add one frame to the end frame so that the intervals have non-zero time extent."
   ]
  },
  {
   "cell_type": "code",
   "execution_count": 25,
   "metadata": {},
   "outputs": [],
   "source": [
    "path_to_fps_mapping = {\n",
    "    vm.id: vm.fps\n",
    "    for vm in video_metadata\n",
    "}\n",
    "bbox_ism_seconds = bbox_interval_set_mapping_with_paths.map(\n",
    "    lambda interval: Interval(\n",
    "        Bounds3D(\n",
    "            t1 = interval['t1'] / path_to_fps_mapping[interval['payload'][1]],\n",
    "            t2 = (interval['t2'] + 1) / path_to_fps_mapping[interval['payload'][1]],\n",
    "            x1 = interval['x1'],\n",
    "            x2 = interval['x2'],\n",
    "            y1 = interval['y1'],\n",
    "            y2 = interval['y2']\n",
    "        ),\n",
    "        payload = interval['payload'][0] # just have the class and score\n",
    "    )\n",
    ")"
   ]
  },
  {
   "cell_type": "markdown",
   "metadata": {},
   "source": [
    "### Concept 5: Vgrid visualizes Vblocks.\n",
    "\n",
    "Vgrid visualizes \"Vblocks\" in a grid. We'll see what that looks like in a minute, and you can go to the [Vgrid documentation](https://scanner-research.github.io/vgrid/) for more details. For now, we just need to create some Vblocks for Vgrid to visualize.\n",
    "\n",
    "First, we initialize our vblocks builder:"
   ]
  },
  {
   "cell_type": "code",
   "execution_count": 26,
   "metadata": {},
   "outputs": [],
   "source": [
    "builder = vblocks_builder.VideoVBlocksBuilder()"
   ]
  },
  {
   "cell_type": "markdown",
   "metadata": {},
   "source": [
    "Next, we add the metadata that we just created. The first field is a path to the fileserver that you started in part one of this tutorial (`Basics.md`). The second field is the list of video metadata."
   ]
  },
  {
   "cell_type": "code",
   "execution_count": 27,
   "metadata": {},
   "outputs": [
    {
     "data": {
      "text/plain": [
       "<vgrid.vblocks_builder.VideoVBlocksBuilder at 0x7f2e43d54cc0>"
      ]
     },
     "execution_count": 27,
     "metadata": {},
     "output_type": "execute_result"
    }
   ],
   "source": [
    "builder.add_video_metadata(\n",
    "    'http://dawn10.stanford.edu:8080', video_metadata\n",
    ")"
   ]
  },
  {
   "cell_type": "markdown",
   "metadata": {},
   "source": [
    "Next, we add bounding boxes to our builder using `add_track` and `VideoTrackBuilder`. We'll also filter our bounding boxes to only the ones that the detector had greater than 75% confidence in. Finally, we'll set the draw type of this track to `bbox`."
   ]
  },
  {
   "cell_type": "code",
   "execution_count": 28,
   "metadata": {},
   "outputs": [
    {
     "data": {
      "text/plain": [
       "<vgrid.vblocks_builder.VideoVBlocksBuilder at 0x7f2e43d54cc0>"
      ]
     },
     "execution_count": 28,
     "metadata": {},
     "output_type": "execute_result"
    }
   ],
   "source": [
    "builder.add_track(\n",
    "    vblocks_builder.VideoTrackBuilder(\n",
    "        'bounding_boxes',\n",
    "        bbox_ism_seconds.filter(lambda interval: interval['payload']['score'] > 0.75)\n",
    "    ).set_draw_type(vblocks_builder.DrawType_Bbox())\n",
    ")"
   ]
  },
  {
   "cell_type": "markdown",
   "metadata": {},
   "source": [
    "Next, we'll turn this into a JSON-serializable format for the Javascript widget."
   ]
  },
  {
   "cell_type": "code",
   "execution_count": 29,
   "metadata": {},
   "outputs": [],
   "source": [
    "json_for_vgrid = builder.build()"
   ]
  },
  {
   "cell_type": "markdown",
   "metadata": {},
   "source": [
    "Finally, we'll display this metadata in Vgrid. To play the videos:\n",
    "* Click \"Disable Jupyter keyboard\". Make sure to enabel the keyboard again when you're done!\n",
    "* Hover over the video you want to play and press \"f\" to expand it. Hover over it and press \"f\" again to contract it.\n",
    "* Hover over the video while expanded and press \"p\" to play it.\n",
    "\n",
    "If you notice lagging bounding boxes, it's probably just a rendering issue; if you pause the video, the boxes will be in the right place"
   ]
  },
  {
   "cell_type": "code",
   "execution_count": 30,
   "metadata": {},
   "outputs": [
    {
     "data": {
      "application/vnd.jupyter.widget-view+json": {
       "model_id": "414acbfcbcb04f739871451274bf0e01",
       "version_major": 2,
       "version_minor": 0
      },
      "text/plain": [
       "VGridWidget(vgrid_json={'interval_blocks': [{'video_id': 'driving3.mp4', 'interval_dict': {'bounding_boxes': […"
      ]
     },
     "metadata": {},
     "output_type": "display_data"
    }
   ],
   "source": [
    "VGridWidget(vgrid_json=json_for_vgrid)"
   ]
  },
  {
   "cell_type": "markdown",
   "metadata": {},
   "source": [
    "### Concept 6: Vgrid can visualize multiple different tracks at once.\n",
    "With our current visualization, there's no differentiation between different objects. It would be nice to to color-code different objects by different colors. We can do this by adding more tracks to Vgrid.\n",
    "\n",
    "Let's start by having multiple `IntervalSetMapping`s, each corresponding to different objects, specified in `object_names`."
   ]
  },
  {
   "cell_type": "code",
   "execution_count": 50,
   "metadata": {},
   "outputs": [],
   "source": [
    "object_names = [\n",
    "    'person',\n",
    "    'bicycle',\n",
    "    'car',\n",
    "    'truck',\n",
    "    'traffic light'\n",
    "]\n",
    "object_isms = [\n",
    "    bbox_ism_seconds.filter(lambda interval: interval['payload']['class'] == object_name)\n",
    "    for object_name in object_names\n",
    "]"
   ]
  },
  {
   "cell_type": "markdown",
   "metadata": {},
   "source": [
    "Now we have an array of different `IntervalSetMapping`s, each of which only has objects from a single class. We also have `objects_other_ism`, which has objects that aren't cars, trucks, motorcycles, bicycles, or traffic lights.\n",
    "\n",
    "We'll build a new Vgrid visualization, with one track per object. We start by creating a new builder and adding our videos to it:"
   ]
  },
  {
   "cell_type": "code",
   "execution_count": 51,
   "metadata": {},
   "outputs": [
    {
     "data": {
      "text/plain": [
       "<vgrid.vblocks_builder.VideoVBlocksBuilder at 0x7f2e2b7c3e80>"
      ]
     },
     "execution_count": 51,
     "metadata": {},
     "output_type": "execute_result"
    }
   ],
   "source": [
    "builder = vblocks_builder.VideoVBlocksBuilder()\n",
    "builder.add_video_metadata(\n",
    "    'http://dawn10.stanford.edu:8080', video_metadata\n",
    ")"
   ]
  },
  {
   "cell_type": "markdown",
   "metadata": {},
   "source": [
    "Next we'll add a new track for every object:"
   ]
  },
  {
   "cell_type": "code",
   "execution_count": 52,
   "metadata": {},
   "outputs": [],
   "source": [
    "for ism, object_name in zip(object_isms, object_names):\n",
    "    builder.add_track(\n",
    "        vblocks_builder.VideoTrackBuilder(\n",
    "            object_name,\n",
    "            ism.filter(lambda interval: interval['payload']['score'] > 0.75)\n",
    "        ).set_draw_type(vblocks_builder.DrawType_Bbox())\n",
    "    )"
   ]
  },
  {
   "cell_type": "markdown",
   "metadata": {},
   "source": [
    "Finally, we'll build a JSON-serializable object for Vgrid and visualize it."
   ]
  },
  {
   "cell_type": "code",
   "execution_count": 53,
   "metadata": {},
   "outputs": [
    {
     "data": {
      "application/vnd.jupyter.widget-view+json": {
       "model_id": "03dac13756d74d3faafd06b13f076a4c",
       "version_major": 2,
       "version_minor": 0
      },
      "text/plain": [
       "VGridWidget(vgrid_json={'interval_blocks': [{'video_id': 'driving3.mp4', 'interval_dict': {'person': [{'payloa…"
      ]
     },
     "metadata": {},
     "output_type": "display_data"
    }
   ],
   "source": [
    "json_for_vgrid = builder.build()\n",
    "VGridWidget(vgrid_json=json_for_vgrid)"
   ]
  },
  {
   "cell_type": "markdown",
   "metadata": {},
   "source": [
    "# Step 3: Use Rekall interval operations to query for particular events in the dataset\n",
    "\n",
    "Now that we are visualizing our data with Rekall and Vgrid, let's use some of Rekall's more powerful Interval operations to look for new things in the dataset.\n",
    "\n",
    "For example, we don't have a bicyclist as a COCO image category, but we might want to find examples of this anyways. We can describe this compositionally as a person bounding box above a bicycle bounding box.\n",
    "\n",
    "First, we create `IntervalSetMapping`s corresponding to person and bicycle:"
   ]
  },
  {
   "cell_type": "code",
   "execution_count": 55,
   "metadata": {},
   "outputs": [],
   "source": [
    "person_ism = bbox_ism_seconds.filter(lambda interval: interval['payload']['class'] == 'person')\n",
    "bicycle_ism = bbox_ism_seconds.filter(lambda interval: interval['payload']['class'] == 'bicycle')"
   ]
  },
  {
   "cell_type": "markdown",
   "metadata": {},
   "source": [
    "### Concept 7: Join operations can be used to express relationships between concepts\n",
    "The `join` operation computes a cross product between two `IntervalSet(Mapping)`s, filters the pairs of Intervals by some predicate, and then merges the pairs of Intervals back into a single Interval with a merge operation. This figure demonstrates the three stages of a join:\n",
    "\n",
    "![simple_join](https://olimar.stanford.edu/hdd/rekall_tutorials/basics/simple_code.png)"
   ]
  },
  {
   "cell_type": "markdown",
   "metadata": {},
   "source": [
    "We first import a collection of built-in predicates from Rekall."
   ]
  },
  {
   "cell_type": "code",
   "execution_count": 56,
   "metadata": {},
   "outputs": [],
   "source": [
    "from rekall.predicates import *"
   ]
  },
  {
   "cell_type": "markdown",
   "metadata": {},
   "source": [
    "We get an `IntervalSetMapping` of people on bicycles by joining `person_ism` with `bicycle_ism`, filtering the pairs by having the same `t1`, with overlapping bounding boxes, and the `person` box's `y1` being above the `bicycle` box's `y1`.\n",
    "\n",
    "We merge the two bounding boxes together so that the bounding box of the \"bicyclist\" covers both the person and the bicycle."
   ]
  },
  {
   "cell_type": "code",
   "execution_count": 58,
   "metadata": {},
   "outputs": [],
   "source": [
    "person_on_bicycle = person_ism.join(\n",
    "    bicycle_ism,\n",
    "    predicate = and_pred(\n",
    "        Bounds3D.T(equal()), # The pair have to be equal along the time dimension\n",
    "        Bounds3D.XY(lambda person, bicycle: person['y1'] > bicycle['y1']), # Person above bicycle\n",
    "        Bounds3D.X(overlaps()), # The boxes overlap in the X dimension\n",
    "        Bounds3D.Y(overlaps()) # The boxes overlap in the Y dimension\n",
    "    ),\n",
    "    merge_op = lambda person, bicycle: Interval(\n",
    "        person['bounds'].span(bicycle['bounds']), # We use the \"span\" method of Bounds3D to get a spanning bound\n",
    "        payload = {\n",
    "            'class': 'bicyclist',\n",
    "            'score': person['payload']['score'] * bicycle['payload']['score']\n",
    "        }\n",
    "    ),\n",
    "    window = 0.5 # Only look at pairs that differ by less than half a second from each other\n",
    ")"
   ]
  },
  {
   "cell_type": "markdown",
   "metadata": {},
   "source": [
    "This code is worth breaking down further. Let's go line by line:\n",
    "\n",
    "Lines 1 and 2 establish that we are joining `person_ism` to `bicycle_ism`. This will join every `IntervalSet` in `person_ism` to the right `IntervalSet` in `bicycle_ism` (by the mapping key).\n",
    "```\n",
    "1   person_on_bicycle = person_ism.join(\n",
    "2       bicycle_ism,\n",
    "```\n",
    "\n",
    "Lines 3-8 establish the predicate on pairs of joined `Interval`s.\n",
    "``` \n",
    "3   predicate = and_pred(\n",
    "4       Bounds3D.T(equal()), # The pair have to be equal along the time dimension\n",
    "5       Bounds3D.XY(lambda person, bicycle: person['y1'] > bicycle['y1']), # Person above bicycle\n",
    "6       Bounds3D.X(overlaps()), # The boxes overlap in the X dimension\n",
    "7       Bounds3D.Y(overlaps()) # The boxes overlap in the Y dimension\n",
    "8   ),\n",
    "```\n",
    "\n",
    "`and_pred` is a predicate that computes a logical `and` between many predicates.\n",
    "\n",
    "`Bounds3D.T(equal())` is a one-dimensional predicate that says that a certain dimension (by default, `(t1, t2)`, but we explicitly state it here for clarity) has to be equal between the two Intervals in the pair.\n",
    "\n",
    "`Bounds3D.XY(lambda person, bicycle: person['y1'] > bicycle['y1'])` wraps a custom predicate that compares the `y1` values of the two `Interval`s and makes sure that the person is above the bicycle. `Bounds3D.XY` makes it clear that we are operating on the `X/Y` axes. By default, two-dimensional predicates are expected to operate on `(x1, x2)` and `(y1, y2)`\n",
    "\n",
    "`Bounds3D.X(overlaps())` is a one-dimensional predicate cast to the `X` dimension (default is the time dimension) and says that the two `Interval`s have to overlap in that dimension.\n",
    "\n",
    "`Bounds3D.Y(overlaps())` is a one-dimensional predicate cast to the `Y` dimension (default is the time dimension) and says that the two `Interval`s have to overlap in that dimension.\n",
    "\n",
    "See the [Rekall documentation](https://rekallpy.readthedocs.io/en/latest/source/rekall.predicates.html) for more information about predicates.\n",
    "\n",
    "Line 9-15 establish the `merge_op` to merge the pair of Intervals back to a single Interval.\n",
    "```\n",
    "9   merge_op = lambda person, bicycle: Interval(\n",
    "10      person['bounds'].span(bicycle['bounds']), # We use the \"span\" method of Bounds3D to get a spanning bound\n",
    "11      payload = {\n",
    "12          'class': 'bicyclist',\n",
    "13          'score': person['payload']['score'] * bicycle['payload']['score']\n",
    "14      }\n",
    "15  ),\n",
    "```\n",
    "\n",
    "Line 9 establishes the arguments to the merge op - we take in two `Intervals`, coming from the `IntervalSet` on the left and the `IntervalSet` on the right of the `join`, respectively.\n",
    "```\n",
    "9   merge_op = lambda person, bicycle: Interval(\n",
    "```\n",
    "\n",
    "Line 10 merges the bounds of the two of the two `Interval`s:\n",
    "```\n",
    "10      person['bounds'].span(bicycle['bounds']), # We use the \"span\" method of Bounds3D to get a spanning bound\n",
    "```\n",
    "We use the [`span`](https://rekallpy.readthedocs.io/en/latest/source/rekall.bounds.html#rekall.bounds.Bounds3D.span) method of `Bounds3D` to get the minimum `Bounds` spanning both `Interval`s.\n",
    "\n",
    "Lines 11-14 establish the new payload - a new class, whose score is the product of the constituent scores.\n",
    "```\n",
    "11      payload = {\n",
    "12          'class': 'bicyclist',\n",
    "13          'score': person['payload']['score'] * bicycle['payload']['score']\n",
    "14      }\n",
    "```\n",
    "\n",
    "Finally, line 16 specifies that we should only look at pairs of `Interval`s that are overlapping or less than `0.5` seconds apart from each other in the time axis.\n",
    "```\n",
    "16  window = 0.5 # Only look at pairs that differ by less than half a second from each other\n",
    "```\n",
    "For more details, see the [`IntervalSet` documentation](https://rekallpy.readthedocs.io/en/latest/index.html#rekall.IntervalSet)."
   ]
  },
  {
   "cell_type": "markdown",
   "metadata": {},
   "source": [
    "And now let's visualize this new concept using vgrid."
   ]
  },
  {
   "cell_type": "code",
   "execution_count": 65,
   "metadata": {},
   "outputs": [
    {
     "data": {
      "application/vnd.jupyter.widget-view+json": {
       "model_id": "214d39f6de264f51b00649bbf7374b29",
       "version_major": 2,
       "version_minor": 0
      },
      "text/plain": [
       "VGridWidget(vgrid_json={'interval_blocks': [{'video_id': 'driving3.mp4', 'interval_dict': {'bicyclists': [{'pa…"
      ]
     },
     "metadata": {},
     "output_type": "display_data"
    }
   ],
   "source": [
    "builder = vblocks_builder.VideoVBlocksBuilder()\n",
    "builder.add_video_metadata(\n",
    "    'http://dawn10.stanford.edu:8080', video_metadata\n",
    ")\n",
    "builder.add_track(\n",
    "    vblocks_builder.VideoTrackBuilder(\n",
    "        'bicyclists',\n",
    "        person_on_bicycle\n",
    "    ).set_draw_type(vblocks_builder.DrawType_Bbox())\n",
    ")\n",
    "vgrid_json = builder.build()\n",
    "VGridWidget(vgrid_json=vgrid_json)"
   ]
  },
  {
   "cell_type": "markdown",
   "metadata": {},
   "source": [
    "This is pretty hard to visualize, since it appears so rarely, unlike our other annotations. However, we can visualize it another way by having one vblock for every instance using `vblocks_builder.IntervalVBlocksBuilder`."
   ]
  },
  {
   "cell_type": "markdown",
   "metadata": {},
   "source": [
    "### Concept 8: Visualize individual instances using `IntervalVBlocksBuilder`.\n",
    "This code looks fairly similar, but this time the build function takes in a single `IntervalSetMapping` and builds a new `VBlock` for every `Interval` in it."
   ]
  },
  {
   "cell_type": "code",
   "execution_count": 68,
   "metadata": {},
   "outputs": [
    {
     "data": {
      "application/vnd.jupyter.widget-view+json": {
       "model_id": "618bc73dd958464abaffcf0bd84b5343",
       "version_major": 2,
       "version_minor": 0
      },
      "text/plain": [
       "VGridWidget(vgrid_json={'interval_blocks': [{'video_id': 'driving3.mp4', 'interval_dict': {'bicyclist': [{'pay…"
      ]
     },
     "metadata": {},
     "output_type": "display_data"
    }
   ],
   "source": [
    "builder = vblocks_builder.IntervalVBlocksBuilder()\n",
    "builder.add_video_metadata(\n",
    "    'http://dawn10.stanford.edu:8080', video_metadata\n",
    ")\n",
    "builder.add_track(vblocks_builder.IntervalTrackBuilder('bicyclist'))\n",
    "vgrid_json = builder.build(person_on_bicycle)\n",
    "VGridWidget(vgrid_json=vgrid_json)"
   ]
  }
 ],
 "metadata": {
  "kernelspec": {
   "display_name": "Python 3",
   "language": "python",
   "name": "python3"
  },
  "language_info": {
   "codemirror_mode": {
    "name": "ipython",
    "version": 3
   },
   "file_extension": ".py",
   "mimetype": "text/x-python",
   "name": "python",
   "nbconvert_exporter": "python",
   "pygments_lexer": "ipython3",
   "version": "3.5.5"
  }
 },
 "nbformat": 4,
 "nbformat_minor": 2
}
